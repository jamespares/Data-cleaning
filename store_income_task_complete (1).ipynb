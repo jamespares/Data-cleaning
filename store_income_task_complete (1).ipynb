{
 "cells":[
  {
   "cell_type":"markdown",
   "source":[
    "## Compulsory Task \n",
    "\n",
    "In this compulsory task you will clean the country column and parse the date column in the **store_income_data_task.csv** file."
   ],
   "attachments":{
    
   },
   "metadata":{
    "datalore":{
     "node_id":"tZNbR3d1ao1KeGjDpqb8Ri",
     "type":"MD",
     "hide_input_from_viewers":false,
     "hide_output_from_viewers":false,
     "report_properties":{
      "rowId":"oQVMw9Q7IEisnLRpfP96wy"
     }
    }
   }
  },
  {
   "cell_type":"code",
   "source":[
    "# Load up store_income_data.csv\n",
    "import pandas as pd\n",
    "import numpy as np\n",
    "import datetime\n",
    "\n",
    "df = pd.read_csv('store_income_data_task.csv')"
   ],
   "execution_count":39,
   "outputs":[
    
   ],
   "metadata":{
    "datalore":{
     "node_id":"ym3Uxl9kTJYkxDvDYboY64",
     "type":"CODE",
     "hide_input_from_viewers":false,
     "hide_output_from_viewers":false,
     "report_properties":{
      "rowId":"rbOESyKGQUwHmBMIzMChjv"
     }
    }
   }
  },
  {
   "cell_type":"markdown",
   "source":[
    "1. Take a look at all the unique values in the \"country\" column. Then, convert the column to lowercase and remove any trailing white spaces.\n",
    "\n"
   ],
   "attachments":{
    
   },
   "metadata":{
    "datalore":{
     "node_id":"Xfazvtmo1y5yZLA2ioboee",
     "type":"MD",
     "hide_input_from_viewers":false,
     "hide_output_from_viewers":false,
     "report_properties":{
      "rowId":"GBNfqu7XkPs3dLKhFnbfz6"
     }
    }
   }
  },
  {
   "cell_type":"code",
   "source":[
    "# Show unique values in country column\n",
    "print(df['country'].unique())\n",
    "\n",
    "# Convert the 'country' column to lowercase and strip trailing spaces\n",
    "df['country'] = df['country'].str.strip().str.lower()\n",
    "\n",
    "# Find unique values in the transformed country column\n",
    "countries = df['country'].unique()\n",
    "print('\\n', countries)\n",
    "\n",
    "# Output useful information\n",
    "print(f\"\\nThere are {len(countries)} unique countries\")"
   ],
   "execution_count":38,
   "outputs":[
    {
     "name":"stdout",
     "text":[
      "['united states' 'united kingdom' 'south africa']\n",
      "\n",
      " ['united states' 'united kingdom' 'south africa']\n",
      "\n",
      "There are 3 unique countries\n"
     ],
     "output_type":"stream"
    }
   ],
   "metadata":{
    "datalore":{
     "node_id":"6IsC64IdPSqLjMPPKrkJIA",
     "type":"CODE",
     "hide_input_from_viewers":true,
     "hide_output_from_viewers":true
    }
   }
  },
  {
   "cell_type":"markdown",
   "source":[
    "2. Note that there should only be three separate countries. Eliminate all variations, so that 'South Africa', 'United Kingdom' and 'United States' are the only three countries."
   ],
   "attachments":{
    
   },
   "metadata":{
    "datalore":{
     "node_id":"He8oTyXIesF4ucONJpnTP8",
     "type":"MD",
     "hide_input_from_viewers":false,
     "hide_output_from_viewers":false,
     "report_properties":{
      "rowId":"oL0oSSU4ajAVMfvupT4Zag"
     }
    }
   }
  },
  {
   "cell_type":"code",
   "source":[
    "\n",
    "# Remove dashes and full stops \n",
    "df['country'] = df['country'].str.replace('\/','')\n",
    "df['country'] = df['country'].str.replace('\\.', '', regex=True)\n",
    "\n",
    "# Create a dictionary to standardise countries\n",
    "country_mapping = {\n",
    "    'britain': 'united kingdom',\n",
    "    'uk': 'united kingdom',\n",
    "    'england': 'united kingdom',\n",
    "    'america': 'united states',\n",
    "    'united states of america': 'united states',\n",
    "    'sa': 'south africa',\n",
    "    's africasouth africa': 'south africa'\n",
    "}\n",
    "\n",
    "# Replace the variants with standardised names\n",
    "df['country'] = df['country'].replace(country_mapping)\n",
    "\n",
    "# Drop NaN values and empty strings\n",
    "df = df.dropna(subset=['country'])\n",
    "df = df[df['country'] != '']\n",
    "\n",
    "# Print the unique country values to verify\n",
    "print(df['country'].unique())"
   ],
   "execution_count":37,
   "outputs":[
    {
     "name":"stdout",
     "text":[
      "['united states' 'united kingdom' 'south africa']\n"
     ],
     "output_type":"stream"
    }
   ],
   "metadata":{
    "datalore":{
     "node_id":"8J1nikPmDyOnDyJF4dCO0v",
     "type":"CODE",
     "hide_input_from_viewers":true,
     "hide_output_from_viewers":true
    }
   }
  },
  {
   "cell_type":"markdown",
   "source":[
    "3. Create a new column called `days_ago` in the DataFrame that is a copy of the 'date_measured' column but instead it is a number that shows how many days ago it was measured from the current date. Note that the current date can be obtained using `datetime.date.today()`."
   ],
   "attachments":{
    
   },
   "metadata":{
    "datalore":{
     "node_id":"rgngbGnpEBh53c2eAHYfCY",
     "type":"MD",
     "hide_input_from_viewers":false,
     "hide_output_from_viewers":false,
     "report_properties":{
      "rowId":"dlI5SJwCtH1oiw7bcMEYYy"
     }
    }
   }
  },
  {
   "cell_type":"code",
   "source":[
    "# Ensure that 'date_measured' is a datetime format\n",
    "df['date_measured'] = pd.to_datetime(df['date_measured'], dayfirst=True)\n",
    "\n",
    "# Calculate the difference in days from the current date\n",
    "df['days_ago'] = (datetime.date.today() - df['date_measured'].dt.date).dt.days\n",
    "\n",
    "\n"
   ],
   "execution_count":36,
   "outputs":[
    
   ],
   "metadata":{
    "datalore":{
     "node_id":"ZkI0iHiRLGw5h8Jnt3i1GL",
     "type":"CODE",
     "hide_input_from_viewers":true,
     "hide_output_from_viewers":true
    }
   }
  }
 ],
 "metadata":{
  "kernelspec":{
   "display_name":"Python",
   "language":"python",
   "name":"python"
  },
  "datalore":{
   "computation_mode":"JUPYTER",
   "package_manager":"pip",
   "base_environment":"default",
   "packages":[
    {
     "name":"datetime",
     "source":"PIP"
    },
    {
     "name":"fuzzywuzzy",
     "source":"PIP"
    },
    {
     "name":"chardet",
     "version":"5.2.0",
     "source":"PIP"
    },
    {
     "name":"python-levenshtein",
     "source":"PIP"
    }
   ],
   "report_row_ids":[
    "oQVMw9Q7IEisnLRpfP96wy",
    "rbOESyKGQUwHmBMIzMChjv",
    "GBNfqu7XkPs3dLKhFnbfz6",
    "oL0oSSU4ajAVMfvupT4Zag",
    "dlI5SJwCtH1oiw7bcMEYYy"
   ],
   "version":3
  }
 },
 "nbformat":4,
 "nbformat_minor":4
}